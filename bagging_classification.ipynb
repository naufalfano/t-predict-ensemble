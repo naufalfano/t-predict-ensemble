{
 "cells": [
  {
   "cell_type": "markdown",
   "id": "b65b26d5",
   "metadata": {},
   "source": [
    "## Codebase for bank marketing dataset classification using bagging techniques"
   ]
  },
  {
   "cell_type": "markdown",
   "id": "8b86f931",
   "metadata": {},
   "source": [
    "Import required libraries"
   ]
  },
  {
   "cell_type": "code",
   "execution_count": 1,
   "id": "3f30c6cd",
   "metadata": {},
   "outputs": [],
   "source": [
    "import pandas as pd\n",
    "import numpy as np\n",
    "import matplotlib.pyplot as plt\n",
    "import seaborn as sns"
   ]
  },
  {
   "cell_type": "markdown",
   "id": "65ba4d2d",
   "metadata": {},
   "source": [
    "Import dataset"
   ]
  },
  {
   "cell_type": "code",
   "execution_count": 2,
   "id": "0c7dedb9",
   "metadata": {},
   "outputs": [
    {
     "name": "stdout",
     "output_type": "stream",
     "text": [
      "        age  job  marital  education  default  housing  loan  contact  month  \\\n",
      "0  1.533034    3        1          0        0        0     0        1      6   \n",
      "1  1.628993    7        1          3        1        0     0        1      6   \n",
      "2 -0.290186    7        1          3        0        2     0        1      6   \n",
      "3 -0.002309    0        1          1        0        0     0        1      6   \n",
      "4  1.533034    7        1          3        0        0     2        1      6   \n",
      "\n",
      "   day_of_week  ...  campaign     pdays  previous  poutcome  emp.var.rate  \\\n",
      "0            1  ... -0.565922  0.195414 -0.349494         1      0.648092   \n",
      "1            1  ... -0.565922  0.195414 -0.349494         1      0.648092   \n",
      "2            1  ... -0.565922  0.195414 -0.349494         1      0.648092   \n",
      "3            1  ... -0.565922  0.195414 -0.349494         1      0.648092   \n",
      "4            1  ... -0.565922  0.195414 -0.349494         1      0.648092   \n",
      "\n",
      "   cons.price.idx  cons.conf.idx  euribor3m  nr.employed  y  \n",
      "0        0.722722       0.886447    0.71246      0.33168  0  \n",
      "1        0.722722       0.886447    0.71246      0.33168  0  \n",
      "2        0.722722       0.886447    0.71246      0.33168  0  \n",
      "3        0.722722       0.886447    0.71246      0.33168  0  \n",
      "4        0.722722       0.886447    0.71246      0.33168  0  \n",
      "\n",
      "[5 rows x 21 columns]\n"
     ]
    }
   ],
   "source": [
    "from dataset import get_data\n",
    "\n",
    "df = get_data()\n",
    "print(df.head())"
   ]
  },
  {
   "cell_type": "markdown",
   "id": "0e945a3d",
   "metadata": {},
   "source": [
    "### Exploratory Data Analysis"
   ]
  },
  {
   "cell_type": "markdown",
   "id": "4f4c56df",
   "metadata": {},
   "source": [
    "Check Feature Type"
   ]
  },
  {
   "cell_type": "code",
   "execution_count": 3,
   "id": "3965c7ce",
   "metadata": {},
   "outputs": [
    {
     "name": "stdout",
     "output_type": "stream",
     "text": [
      "<class 'pandas.core.frame.DataFrame'>\n",
      "RangeIndex: 41188 entries, 0 to 41187\n",
      "Data columns (total 21 columns):\n",
      " #   Column          Non-Null Count  Dtype  \n",
      "---  ------          --------------  -----  \n",
      " 0   age             41188 non-null  float64\n",
      " 1   job             41188 non-null  int64  \n",
      " 2   marital         41188 non-null  int64  \n",
      " 3   education       41188 non-null  int64  \n",
      " 4   default         41188 non-null  int64  \n",
      " 5   housing         41188 non-null  int64  \n",
      " 6   loan            41188 non-null  int64  \n",
      " 7   contact         41188 non-null  int64  \n",
      " 8   month           41188 non-null  int64  \n",
      " 9   day_of_week     41188 non-null  int64  \n",
      " 10  duration        41188 non-null  float64\n",
      " 11  campaign        41188 non-null  float64\n",
      " 12  pdays           41188 non-null  float64\n",
      " 13  previous        41188 non-null  float64\n",
      " 14  poutcome        41188 non-null  int64  \n",
      " 15  emp.var.rate    41188 non-null  float64\n",
      " 16  cons.price.idx  41188 non-null  float64\n",
      " 17  cons.conf.idx   41188 non-null  float64\n",
      " 18  euribor3m       41188 non-null  float64\n",
      " 19  nr.employed     41188 non-null  float64\n",
      " 20  y               41188 non-null  int64  \n",
      "dtypes: float64(10), int64(11)\n",
      "memory usage: 6.6 MB\n"
     ]
    }
   ],
   "source": [
    "df.info()"
   ]
  },
  {
   "cell_type": "markdown",
   "id": "d1492653",
   "metadata": {},
   "source": [
    "Check null values"
   ]
  },
  {
   "cell_type": "code",
   "execution_count": 4,
   "id": "82df743b",
   "metadata": {},
   "outputs": [
    {
     "name": "stdout",
     "output_type": "stream",
     "text": [
      "age               0\n",
      "job               0\n",
      "marital           0\n",
      "education         0\n",
      "default           0\n",
      "housing           0\n",
      "loan              0\n",
      "contact           0\n",
      "month             0\n",
      "day_of_week       0\n",
      "duration          0\n",
      "campaign          0\n",
      "pdays             0\n",
      "previous          0\n",
      "poutcome          0\n",
      "emp.var.rate      0\n",
      "cons.price.idx    0\n",
      "cons.conf.idx     0\n",
      "euribor3m         0\n",
      "nr.employed       0\n",
      "y                 0\n",
      "dtype: int64\n"
     ]
    }
   ],
   "source": [
    "print(df.isna().sum())"
   ]
  },
  {
   "cell_type": "markdown",
   "id": "d6bae9c2",
   "metadata": {},
   "source": [
    "Check target variable distribution"
   ]
  },
  {
   "cell_type": "code",
   "execution_count": 5,
   "id": "95433373",
   "metadata": {},
   "outputs": [
    {
     "name": "stdout",
     "output_type": "stream",
     "text": [
      "4640\n",
      "36548\n"
     ]
    }
   ],
   "source": [
    "print((df['y'] == 1).sum())\n",
    "print((df['y'] == 0).sum())"
   ]
  },
  {
   "cell_type": "markdown",
   "id": "27e9020d",
   "metadata": {},
   "source": [
    "### Data Preprocessing"
   ]
  },
  {
   "cell_type": "markdown",
   "id": "5db9ec51",
   "metadata": {},
   "source": [
    "Encode non-numerical feature"
   ]
  },
  {
   "cell_type": "code",
   "execution_count": 6,
   "id": "fa6f9225",
   "metadata": {},
   "outputs": [],
   "source": [
    "from sklearn.preprocessing import LabelEncoder\n",
    "\n",
    "for feature in ['job', 'marital', 'education', 'default', 'housing', 'loan', 'contact', 'month', 'day_of_week', 'poutcome', 'y']:\n",
    "    df[feature] = LabelEncoder().fit_transform(df[feature])"
   ]
  },
  {
   "cell_type": "markdown",
   "id": "960dcb5d",
   "metadata": {},
   "source": [
    "Scaled numerical data"
   ]
  },
  {
   "cell_type": "code",
   "execution_count": 7,
   "id": "8bf6af88",
   "metadata": {},
   "outputs": [],
   "source": [
    "from sklearn.preprocessing import StandardScaler\n",
    "\n",
    "scaler = StandardScaler()\n",
    "for feature in ['age', 'duration', 'campaign', 'pdays', 'previous', 'emp.var.rate', 'cons.price.idx', 'cons.conf.idx', 'euribor3m', 'nr.employed']:\n",
    "    df[feature] = scaler.fit_transform(df[[feature]])"
   ]
  },
  {
   "cell_type": "markdown",
   "id": "b72e145b",
   "metadata": {},
   "source": [
    "Pipeline for preprocessing"
   ]
  },
  {
   "cell_type": "code",
   "execution_count": 8,
   "id": "65201fb5",
   "metadata": {},
   "outputs": [],
   "source": [
    "from sklearn.model_selection import train_test_split, StratifiedKFold\n",
    "from imblearn.pipeline import Pipeline\n",
    "from imblearn.combine import SMOTETomek\n",
    "\n",
    "X = df.drop(columns=['y'])\n",
    "y = df['y']\n",
    "\n",
    "def preprocessing_pipeline(X, y, test_size=0.3, random_state=42):\n",
    "    X_train, X_test, y_train, y_test = train_test_split(\n",
    "        X, y, test_size=test_size, random_state=random_state, stratify=y\n",
    "    )\n",
    "\n",
    "    smote_tomek = SMOTETomek(random_state=random_state)\n",
    "    X_resampled, y_resampled = smote_tomek.fit_resample(X_train, y_train)\n",
    "\n",
    "    return X_resampled, X_test, y_resampled, y_test\n",
    "\n",
    "cv = StratifiedKFold(n_splits=5, shuffle=True, random_state=42)\n"
   ]
  },
  {
   "cell_type": "markdown",
   "id": "9d19a8ec",
   "metadata": {},
   "source": [
    "### Base Modelling"
   ]
  },
  {
   "cell_type": "markdown",
   "id": "7beb8e87",
   "metadata": {},
   "source": [
    "Baseline Model"
   ]
  },
  {
   "cell_type": "code",
   "execution_count": 9,
   "id": "084ea8e5",
   "metadata": {},
   "outputs": [
    {
     "data": {
      "image/png": "[encoded data removed]",
      "text/plain": [
       "<Figure size 600x400 with 1 Axes>"
      ]
     },
     "metadata": {},
     "output_type": "display_data"
    },
    {
     "name": "stdout",
     "output_type": "stream",
     "text": [
      "Accuracy: 0.8799\n",
      "Recall: 0.5797\n",
      "Precision: 0.4730\n",
      "F1 Score: 0.5210\n",
      "Confusion Matrix: TN=10066, FP=899, FN=585, TP=807\n"
     ]
    }
   ],
   "source": [
    "from sklearn.tree import DecisionTreeClassifier\n",
    "from sklearn.metrics import confusion_matrix, accuracy_score, recall_score, precision_score, f1_score\n",
    "\n",
    "X_resampled, X_test, y_resampled, y_test = preprocessing_pipeline(X, y)\n",
    "\n",
    "baseline_model = DecisionTreeClassifier(random_state=42)\n",
    "baseline_model.fit(X_resampled, y_resampled)\n",
    "\n",
    "y_pred = baseline_model.predict(X_test)\n",
    "\n",
    "tn, fp, fn, tp = confusion_matrix(y_test, y_pred).ravel()\n",
    "\n",
    "acc = accuracy_score(y_test, y_pred)\n",
    "rec = recall_score(y_test, y_pred)\n",
    "prec = precision_score(y_test, y_pred)\n",
    "f1 = f1_score(y_test, y_pred)\n",
    "\n",
    "metrics = {\n",
    "    \"Accuracy\": acc,\n",
    "    \"Precision\": prec,\n",
    "    \"Recall\": rec,\n",
    "    \"F1 Score\": f1\n",
    "}\n",
    "\n",
    "plt.figure(figsize=(6,4))\n",
    "plt.bar(metrics.keys(), metrics.values(), color='blue', edgecolor='black')\n",
    "plt.ylabel('Score')\n",
    "plt.ylim(0, 1)\n",
    "plt.title('Baseline Model (Decision Tree)')\n",
    "plt.show()\n",
    "\n",
    "print(f\"Accuracy: {acc:.4f}\")\n",
    "print(f\"Recall: {rec:.4f}\")\n",
    "print(f\"Precision: {prec:.4f}\")\n",
    "print(f\"F1 Score: {f1:.4f}\")\n",
    "print(f\"Confusion Matrix: TN={tn}, FP={fp}, FN={fn}, TP={tp}\")"
   ]
  },
  {
   "cell_type": "code",
   "execution_count": 14,
   "id": "6a6be2eb",
   "metadata": {},
   "outputs": [
    {
     "name": "stdout",
     "output_type": "stream",
     "text": [
      "Mean CV accuracy: 0.9250\n",
      "Std CV accuracy: 0.0044\n",
      "Mean CV F1 Score: 0.9256\n",
      "Std CV F1 Score: 0.0042\n"
     ]
    }
   ],
   "source": [
    "from sklearn.model_selection import cross_val_score, StratifiedKFold\n",
    "\n",
    "X_resampled, X_test, y_resampled, y_test = preprocessing_pipeline(X, y)\n",
    "\n",
    "\n",
    "cv_scores = cross_val_score(\n",
    "    baseline_model, X_resampled, y_resampled, cv=cv, scoring='accuracy'\n",
    ")\n",
    "\n",
    "cv_scores_f1 = cross_val_score(\n",
    "    baseline_model, X_resampled, y_resampled, cv=cv, scoring='f1'\n",
    ")\n",
    "\n",
    "print(f\"Mean CV accuracy: {np.mean(cv_scores):.4f}\")\n",
    "print(f\"Std CV accuracy: {np.std(cv_scores):.4f}\")\n",
    "print(f\"Mean CV F1 Score: {np.mean(cv_scores_f1):.4f}\")\n",
    "print(f\"Std CV F1 Score: {np.std(cv_scores_f1):.4f}\")"
   ]
  },
  {
   "cell_type": "markdown",
   "id": "4f483df7",
   "metadata": {},
   "source": [
    "### Bagging Model"
   ]
  },
  {
   "cell_type": "code",
   "execution_count": 15,
   "id": "a9fae7b8",
   "metadata": {},
   "outputs": [
    {
     "data": {
      "image/png": "[encoded data removed]",
      "text/plain": [
       "<Figure size 600x400 with 1 Axes>"
      ]
     },
     "metadata": {},
     "output_type": "display_data"
    },
    {
     "name": "stdout",
     "output_type": "stream",
     "text": [
      "Accuracy: 0.9013\n",
      "Recall: 0.6818\n",
      "Precision: 0.5498\n",
      "F1 Score: 0.6087\n",
      "Confusion Matrix: TN=10066, FP=899, FN=585, TP=807\n"
     ]
    }
   ],
   "source": [
    "#Base model\n",
    "from sklearn.ensemble import BaggingClassifier\n",
    "from sklearn.model_selection import cross_val_score, StratifiedKFold\n",
    "from sklearn.metrics import confusion_matrix, accuracy_score, recall_score, precision_score, f1_score\n",
    "\n",
    "X_resampled, X_test, y_resampled, y_test = preprocessing_pipeline(X, y)\n",
    "\n",
    "base_bagging = BaggingClassifier(\n",
    "    estimator=DecisionTreeClassifier(max_depth=None, random_state=42),\n",
    "    n_estimators=100,\n",
    "    random_state=42,\n",
    "    n_jobs=-1\n",
    ")\n",
    "\n",
    "base_bagging.fit(X_resampled, y_resampled)\n",
    "y_pred = base_bagging.predict(X_test)\n",
    "\n",
    "acc = accuracy_score(y_test, y_pred)\n",
    "rec = recall_score(y_test, y_pred)\n",
    "prec = precision_score(y_test, y_pred)\n",
    "f1 = f1_score(y_test, y_pred)\n",
    "\n",
    "metrics = {\n",
    "    \"Accuracy\": acc,\n",
    "    \"Precision\": prec,\n",
    "    \"Recall\": rec,\n",
    "    \"F1 Score\": f1\n",
    "}\n",
    "\n",
    "plt.figure(figsize=(6,4))\n",
    "plt.bar(metrics.keys(), metrics.values(), color='blue', edgecolor='black')\n",
    "plt.ylabel('Score')\n",
    "plt.ylim(0, 1)\n",
    "plt.title('Baseline Model (Decision Tree)')\n",
    "plt.show()\n",
    "\n",
    "print(f\"Accuracy: {acc:.4f}\")\n",
    "print(f\"Recall: {rec:.4f}\")\n",
    "print(f\"Precision: {prec:.4f}\")\n",
    "print(f\"F1 Score: {f1:.4f}\")\n",
    "print(f\"Confusion Matrix: TN={tn}, FP={fp}, FN={fn}, TP={tp}\")"
   ]
  },
  {
   "cell_type": "code",
   "execution_count": 16,
   "id": "0fc7c93d",
   "metadata": {},
   "outputs": [
    {
     "name": "stdout",
     "output_type": "stream",
     "text": [
      "CV Accuracy: 0.8911\n",
      "CV Recall: 0.9299\n",
      "CV Precision: 0.8629\n",
      "CV F1 Score: 0.8951\n"
     ]
    },
    {
     "data": {
      "image/png": "[encoded data removed]",
      "text/plain": [
       "<Figure size 600x400 with 1 Axes>"
      ]
     },
     "metadata": {},
     "output_type": "display_data"
    }
   ],
   "source": [
    "from sklearn.ensemble import BaggingClassifier\n",
    "from sklearn.model_selection import cross_val_score, StratifiedKFold\n",
    "from sklearn.metrics import accuracy_score, recall_score, precision_score, f1_score\n",
    "\n",
    "X_resampled, X_test, y_resampled, y_test = preprocessing_pipeline(X, y)\n",
    "\n",
    "base_bagging = BaggingClassifier(\n",
    "    estimator=DecisionTreeClassifier(max_depth=5, random_state=42),\n",
    "    n_estimators=100,\n",
    "    random_state=42,\n",
    "    n_jobs=-1\n",
    ")\n",
    "\n",
    "cv_acc = cross_val_score(base_bagging, X_resampled, y_resampled, cv=cv, scoring='accuracy')\n",
    "cv_rec = cross_val_score(base_bagging, X_resampled, y_resampled, cv=cv, scoring='recall')\n",
    "cv_prec = cross_val_score(base_bagging, X_resampled, y_resampled, cv=cv, scoring='precision')\n",
    "cv_f1 = cross_val_score(base_bagging, X_resampled, y_resampled, cv=cv, scoring='f1')\n",
    "\n",
    "print(f\"CV Accuracy: {np.mean(cv_acc):.4f}\")\n",
    "print(f\"CV Recall: {np.mean(cv_rec):.4f}\")\n",
    "print(f\"CV Precision: {np.mean(cv_prec):.4f}\")\n",
    "print(f\"CV F1 Score: {np.mean(cv_f1):.4f}\")\n",
    "\n",
    "# Plot histogram of CV metrics\n",
    "cv_metrics = {\n",
    "    \"Accuracy\": np.mean(cv_acc),\n",
    "    \"Precision\": np.mean(cv_prec),\n",
    "    \"Recall\": np.mean(cv_rec),\n",
    "    \"F1 Score\": np.mean(cv_f1)\n",
    "}\n",
    "\n",
    "plt.figure(figsize=(6,4))\n",
    "plt.bar(cv_metrics.keys(), cv_metrics.values(), color='purple', edgecolor='black')\n",
    "plt.ylabel('CV Mean Score')\n",
    "plt.ylim(0, 1)\n",
    "plt.title('Bagging Classifier (Decision Tree) CV Metrics')\n",
    "plt.show()"
   ]
  },
  {
   "cell_type": "code",
   "execution_count": 17,
   "id": "e3fd6552",
   "metadata": {},
   "outputs": [
    {
     "name": "stdout",
     "output_type": "stream",
     "text": [
      "Fitting 10 folds for each of 25 candidates, totalling 250 fits\n",
      "Best parameters: {'estimator__max_depth': 10, 'n_estimators': 300}\n",
      "Best CV F1 Score: 0.9282\n"
     ]
    }
   ],
   "source": [
    "#Optimized bagging classifier using GridSearchCV\n",
    "from sklearn.ensemble import BaggingClassifier\n",
    "from sklearn.model_selection import cross_val_score, StratifiedKFold, GridSearchCV\n",
    "from sklearn.metrics import accuracy_score, recall_score, precision_score, f1_score\n",
    "\n",
    "params_grid = {\n",
    "    'n_estimators': [10, 50, 100, 300, 500],\n",
    "    'estimator__max_depth': [1, 3, 5, 8, 10]\n",
    "}\n",
    "\n",
    "bagging_optimized = BaggingClassifier(\n",
    "    estimator=DecisionTreeClassifier(random_state=42),\n",
    "    random_state=42,\n",
    "    n_jobs=-1\n",
    ")\n",
    "\n",
    "grid_cv = GridSearchCV(\n",
    "    estimator=bagging_optimized,\n",
    "    param_grid=params_grid,\n",
    "    scoring='f1',\n",
    "    cv=cv,\n",
    "    n_jobs=-1,\n",
    "    verbose=1\n",
    ")\n",
    "\n",
    "grid_cv.fit(X_resampled, y_resampled)\n",
    "\n",
    "print(f\"Best parameters: {grid_cv.best_params_}\")\n",
    "print(f\"Best CV F1 Score: {grid_cv.best_score_:.4f}\")"
   ]
  },
  {
   "cell_type": "code",
   "execution_count": 18,
   "id": "b6471a7a",
   "metadata": {},
   "outputs": [
    {
     "name": "stdout",
     "output_type": "stream",
     "text": [
      "CV Accuracy: 0.9255\n",
      "CV Recall: 0.9636\n",
      "CV Precision: 0.8953\n",
      "CV F1 Score: 0.9282\n"
     ]
    },
    {
     "data": {
      "image/png": "[encoded data removed]",
      "text/plain": [
       "<Figure size 600x400 with 1 Axes>"
      ]
     },
     "metadata": {},
     "output_type": "display_data"
    }
   ],
   "source": [
    "from sklearn.ensemble import BaggingClassifier\n",
    "from sklearn.model_selection import cross_val_score, StratifiedKFold\n",
    "from sklearn.metrics import accuracy_score, recall_score, precision_score, f1_score\n",
    "\n",
    "X_resampled, X_test, y_resampled, y_test = preprocessing_pipeline(X, y)\n",
    "\n",
    "base_bagging = BaggingClassifier(\n",
    "    estimator=DecisionTreeClassifier(max_depth=10, random_state=42),\n",
    "    n_estimators=300,\n",
    "    random_state=42,\n",
    "    n_jobs=-1\n",
    ")\n",
    "\n",
    "cv_acc = cross_val_score(base_bagging, X_resampled, y_resampled, cv=cv, scoring='accuracy')\n",
    "cv_rec = cross_val_score(base_bagging, X_resampled, y_resampled, cv=cv, scoring='recall')\n",
    "cv_prec = cross_val_score(base_bagging, X_resampled, y_resampled, cv=cv, scoring='precision')\n",
    "cv_f1 = cross_val_score(base_bagging, X_resampled, y_resampled, cv=cv, scoring='f1')\n",
    "\n",
    "print(f\"CV Accuracy: {np.mean(cv_acc):.4f}\")\n",
    "print(f\"CV Recall: {np.mean(cv_rec):.4f}\")\n",
    "print(f\"CV Precision: {np.mean(cv_prec):.4f}\")\n",
    "print(f\"CV F1 Score: {np.mean(cv_f1):.4f}\")\n",
    "\n",
    "# Plot histogram of CV metrics\n",
    "cv_metrics = {\n",
    "    \"Accuracy\": np.mean(cv_acc),\n",
    "    \"Precision\": np.mean(cv_prec),\n",
    "    \"Recall\": np.mean(cv_rec),\n",
    "    \"F1 Score\": np.mean(cv_f1)\n",
    "}\n",
    "\n",
    "plt.figure(figsize=(6,4))\n",
    "plt.bar(cv_metrics.keys(), cv_metrics.values(), color='purple', edgecolor='black')\n",
    "plt.ylabel('CV Mean Score')\n",
    "plt.ylim(0, 1)\n",
    "plt.title('Bagging Classifier (Decision Tree) CV Metrics')\n",
    "plt.show()"
   ]
  },
  {
   "cell_type": "markdown",
   "id": "2db1dcf5",
   "metadata": {},
   "source": [
    "Random Forest Model"
   ]
  },
  {
   "cell_type": "code",
   "execution_count": 19,
   "id": "b5463b65",
   "metadata": {},
   "outputs": [
    {
     "data": {
      "image/png": "[encoded data removed]",
      "text/plain": [
       "<Figure size 600x400 with 1 Axes>"
      ]
     },
     "metadata": {},
     "output_type": "display_data"
    },
    {
     "name": "stdout",
     "output_type": "stream",
     "text": [
      "Accuracy: 0.9057\n",
      "Recall: 0.7112\n",
      "Precision: 0.5647\n",
      "F1 Score: 0.6296\n"
     ]
    }
   ],
   "source": [
    "#Base model\n",
    "from sklearn.ensemble import RandomForestClassifier\n",
    "from sklearn.model_selection import cross_val_score, StratifiedKFold\n",
    "from sklearn.metrics import accuracy_score, recall_score, precision_score, f1_score\n",
    "\n",
    "X_resampled, X_test, y_resampled, y_test = preprocessing_pipeline(X, y)\n",
    "\n",
    "rf = RandomForestClassifier(n_estimators=100, random_state=42, n_jobs=-1)\n",
    "rf.fit(X_resampled, y_resampled)\n",
    "\n",
    "y_pred = rf.predict(X_test)\n",
    "acc = accuracy_score(y_test, y_pred)\n",
    "rec = recall_score(y_test, y_pred)\n",
    "prec = precision_score(y_test, y_pred)\n",
    "f1 = f1_score(y_test, y_pred)\n",
    "\n",
    "metrics = {\n",
    "    \"Accuracy\": acc,\n",
    "    \"Precision\": prec,\n",
    "    \"Recall\": rec,\n",
    "    \"F1 Score\": f1\n",
    "}  \n",
    "\n",
    "plt.figure(figsize=(6,4))\n",
    "plt.bar(metrics.keys(), metrics.values(), color='green', edgecolor='black')\n",
    "plt.ylabel('Score')\n",
    "plt.ylim(0, 1)\n",
    "plt.title('Random Forest Classifier')\n",
    "plt.show()\n",
    "print(f\"Accuracy: {acc:.4f}\")\n",
    "print(f\"Recall: {rec:.4f}\")\n",
    "print(f\"Precision: {prec:.4f}\")\n",
    "print(f\"F1 Score: {f1:.4f}\")"
   ]
  },
  {
   "cell_type": "code",
   "execution_count": 20,
   "id": "a8580167",
   "metadata": {},
   "outputs": [
    {
     "name": "stdout",
     "output_type": "stream",
     "text": [
      "Fitting 10 folds for each of 15 candidates, totalling 150 fits\n",
      "Best parameters: {'max_features': 'sqrt', 'n_estimators': 100}\n",
      "Best CV F1 Score: 0.9538\n"
     ]
    }
   ],
   "source": [
    "#Optimized GridSearchCV\n",
    "from sklearn.ensemble import RandomForestClassifier\n",
    "from sklearn.model_selection import cross_val_score, StratifiedKFold, GridSearchCV\n",
    "from sklearn.metrics import accuracy_score, recall_score, precision_score, f1_score\n",
    "\n",
    "X_resampled, X_test, y_resampled, y_test = preprocessing_pipeline(X, y)\n",
    "\n",
    "params_grid = {\n",
    "    'n_estimators': [50, 100, 200, 300, 500],\n",
    "    'max_features': ['sqrt', 'log2', None],\n",
    "}\n",
    "\n",
    "rf = RandomForestClassifier(random_state=42, n_jobs=-1)\n",
    "\n",
    "grid_cv = GridSearchCV(\n",
    "    estimator=rf,\n",
    "    param_grid=params_grid,\n",
    "    scoring='f1',\n",
    "    cv=cv,\n",
    "    n_jobs=-1,\n",
    "    verbose=1\n",
    ")\n",
    "\n",
    "grid_cv.fit(X_resampled, y_resampled)\n",
    "print(f\"Best parameters: {grid_cv.best_params_}\")\n",
    "print(f\"Best CV F1 Score: {grid_cv.best_score_:.4f}\")"
   ]
  },
  {
   "cell_type": "code",
   "execution_count": null,
   "id": "7f8f6640",
   "metadata": {},
   "outputs": [
    {
     "data": {
      "image/png": "[encoded data removed]",
      "text/plain": [
       "<Figure size 600x400 with 1 Axes>"
      ]
     },
     "metadata": {},
     "output_type": "display_data"
    },
    {
     "name": "stdout",
     "output_type": "stream",
     "text": [
      "Accuracy: 0.9063\n",
      "Recall: 0.7191\n",
      "Precision: 0.5662\n",
      "F1 Score: 0.6335\n"
     ]
    }
   ],
   "source": [
    "#Optimized model\n",
    "from sklearn.ensemble import RandomForestClassifier\n",
    "from sklearn.model_selection import cross_val_score, StratifiedKFold\n",
    "from sklearn.metrics import accuracy_score, recall_score, precision_score, f1_score\n",
    "\n",
    "X_resampled, X_test, y_resampled, y_test = preprocessing_pipeline(X, y)\n",
    "\n",
    "rf = RandomForestClassifier(n_estimators=500, max_features='sqrt', random_state=42, n_jobs=-1)\n",
    "rf.fit(X_resampled, y_resampled)\n",
    "\n",
    "y_pred = rf.predict(X_test)\n",
    "acc = accuracy_score(y_test, y_pred)\n",
    "rec = recall_score(y_test, y_pred)\n",
    "prec = precision_score(y_test, y_pred)\n",
    "f1 = f1_score(y_test, y_pred)\n",
    "\n",
    "metrics = {\n",
    "    \"Accuracy\": acc,   \n",
    "    \"Precision\": prec,\n",
    "    \"Recall\": rec,\n",
    "    \"F1 Score\": f1\n",
    "}  \n",
    "\n",
    "plt.figure(figsize=(6,4))\n",
    "plt.bar(metrics.keys(), metrics.values(), color='green', edgecolor='black')\n",
    "plt.ylabel('Score')\n",
    "plt.ylim(0, 1)\n",
    "plt.title('Random Forest Classifier')\n",
    "plt.show()\n",
    "print(f\"Accuracy: {acc:.4f}\")\n",
    "print(f\"Recall: {rec:.4f}\")\n",
    "print(f\"Precision: {prec:.4f}\")\n",
    "print(f\"F1 Score: {f1:.4f}\")"
   ]
  },
  {
   "cell_type": "markdown",
   "id": "eff9a941",
   "metadata": {},
   "source": [
    "### Best Model"
   ]
  }
 ],
 "metadata": {
  "kernelspec": {
   "display_name": "venv",
   "language": "python",
   "name": "python3"
  },
  "language_info": {
   "codemirror_mode": {
    "name": "ipython",
    "version": 3
   },
   "file_extension": ".py",
   "mimetype": "text/x-python",
   "name": "python",
   "nbconvert_exporter": "python",
   "pygments_lexer": "ipython3",
   "version": "3.13.7"
  }
 },
 "nbformat": 4,
 "nbformat_minor": 5
}
