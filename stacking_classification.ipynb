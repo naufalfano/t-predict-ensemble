{
 "cells": [
  {
   "cell_type": "markdown",
   "id": "879931f3",
   "metadata": {},
   "source": [
    "## Codebase for bank marketing dataset classification using stacking techniques"
   ]
  },
  {
   "cell_type": "code",
   "execution_count": 1,
   "id": "69ee9759",
   "metadata": {},
   "outputs": [],
   "source": [
    "import pandas as pd\n",
    "import numpy as np\n",
    "import matplotlib.pyplot as plt\n",
    "import seaborn as sns"
   ]
  },
  {
   "cell_type": "code",
   "execution_count": 2,
   "id": "4a54d54b",
   "metadata": {},
   "outputs": [
    {
     "name": "stdout",
     "output_type": "stream",
     "text": [
      "   age        job  marital    education  default housing loan    contact  \\\n",
      "0   56  housemaid  married     basic.4y       no      no   no  telephone   \n",
      "1   57   services  married  high.school  unknown      no   no  telephone   \n",
      "2   37   services  married  high.school       no     yes   no  telephone   \n",
      "3   40     admin.  married     basic.6y       no      no   no  telephone   \n",
      "4   56   services  married  high.school       no      no  yes  telephone   \n",
      "\n",
      "  month day_of_week  ...  campaign  pdays  previous     poutcome emp.var.rate  \\\n",
      "0   may         mon  ...         1    999         0  nonexistent          1.1   \n",
      "1   may         mon  ...         1    999         0  nonexistent          1.1   \n",
      "2   may         mon  ...         1    999         0  nonexistent          1.1   \n",
      "3   may         mon  ...         1    999         0  nonexistent          1.1   \n",
      "4   may         mon  ...         1    999         0  nonexistent          1.1   \n",
      "\n",
      "   cons.price.idx  cons.conf.idx  euribor3m  nr.employed   y  \n",
      "0          93.994          -36.4      4.857       5191.0  no  \n",
      "1          93.994          -36.4      4.857       5191.0  no  \n",
      "2          93.994          -36.4      4.857       5191.0  no  \n",
      "3          93.994          -36.4      4.857       5191.0  no  \n",
      "4          93.994          -36.4      4.857       5191.0  no  \n",
      "\n",
      "[5 rows x 21 columns]\n"
     ]
    }
   ],
   "source": [
    "from dataset import get_data\n",
    "\n",
    "df = get_data()\n",
    "print(df.head())"
   ]
  },
  {
   "cell_type": "markdown",
   "id": "d3516a8c",
   "metadata": {},
   "source": [
    "Variation 1 : DT, LR, AdaBoost"
   ]
  },
  {
   "cell_type": "code",
   "execution_count": 4,
   "id": "b460c33e",
   "metadata": {},
   "outputs": [
    {
     "name": "stdout",
     "output_type": "stream",
     "text": [
      "Accuracy: 0.8869\n",
      "Recall: 0.6846\n",
      "Precision: 0.4984\n",
      "F1 Score: 0.5769\n",
      "Confusion Matrix: TN=10006, FP=959, FN=439, TP=953\n"
     ]
    }
   ],
   "source": [
    "from preprocessing import *\n",
    "from sklearn.linear_model import LogisticRegression\n",
    "from sklearn.tree import DecisionTreeClassifier\n",
    "from sklearn.ensemble import AdaBoostClassifier, StackingClassifier\n",
    "from sklearn.metrics import accuracy_score, recall_score, precision_score, f1_score, confusion_matrix\n",
    "\n",
    "X_resampled, X_test, y_resampled, y_test, encoders, scalers = preprocessing_pipeline(df)\n",
    "\n",
    "#Base model init\n",
    "base = [\n",
    "    ('lr', LogisticRegression(max_iter=100, random_state=42)),\n",
    "    ('dt', DecisionTreeClassifier(random_state=42)),\n",
    "    ('ada', AdaBoostClassifier(random_state=42))\n",
    "]\n",
    "\n",
    "#Stacking classifier\n",
    "stack = StackingClassifier(\n",
    "    estimators=base,\n",
    "    final_estimator=LogisticRegression(max_iter=100, random_state=42),\n",
    "    cv=cv_5fold(),\n",
    "    n_jobs=-1,\n",
    ")\n",
    "\n",
    "stack.fit(X_resampled, y_resampled)\n",
    "\n",
    "y_pred = stack.predict(X_test)\n",
    "\n",
    "acc = accuracy_score(y_test, y_pred)\n",
    "rec = recall_score(y_test, y_pred)\n",
    "prec = precision_score(y_test, y_pred)\n",
    "f1 = f1_score(y_test, y_pred)\n",
    "tn, fp, fn, tp = confusion_matrix(y_test, y_pred).ravel()\n",
    "\n",
    "print(f\"Accuracy: {acc:.4f}\")\n",
    "print(f\"Recall: {rec:.4f}\")\n",
    "print(f\"Precision: {prec:.4f}\")\n",
    "print(f\"F1 Score: {f1:.4f}\")\n",
    "print(f\"Confusion Matrix: TN={tn}, FP={fp}, FN={fn}, TP={tp}\")"
   ]
  },
  {
   "cell_type": "code",
   "execution_count": 5,
   "id": "77a22645",
   "metadata": {},
   "outputs": [
    {
     "name": "stdout",
     "output_type": "stream",
     "text": [
      "Accuracy: 0.8864\n",
      "Recall: 0.6846\n",
      "Precision: 0.4969\n",
      "F1 Score: 0.5758\n",
      "Confusion Matrix: TN=10000, FP=965, FN=439, TP=953\n"
     ]
    }
   ],
   "source": [
    "from preprocessing import *\n",
    "from sklearn.linear_model import LogisticRegression\n",
    "from sklearn.tree import DecisionTreeClassifier\n",
    "from sklearn.ensemble import AdaBoostClassifier, StackingClassifier\n",
    "from sklearn.metrics import accuracy_score, recall_score, precision_score, f1_score, confusion_matrix\n",
    "\n",
    "X_resampled, X_test, y_resampled, y_test, encoders, scalers = preprocessing_pipeline(df)\n",
    "\n",
    "#Base model init\n",
    "base = [\n",
    "    ('lr', LogisticRegression(max_iter=100, random_state=42)),\n",
    "    ('dt', DecisionTreeClassifier(random_state=42)),\n",
    "    ('ada', AdaBoostClassifier(random_state=42))\n",
    "]\n",
    "\n",
    "#Stacking classifier\n",
    "stack = StackingClassifier(\n",
    "    estimators=base,\n",
    "    final_estimator=LogisticRegression(max_iter=100, random_state=42),\n",
    "    cv=cv_10fold(),\n",
    "    n_jobs=-1,\n",
    ")\n",
    "\n",
    "stack.fit(X_resampled, y_resampled)\n",
    "\n",
    "y_pred = stack.predict(X_test)\n",
    "\n",
    "acc = accuracy_score(y_test, y_pred)\n",
    "rec = recall_score(y_test, y_pred)\n",
    "prec = precision_score(y_test, y_pred)\n",
    "f1 = f1_score(y_test, y_pred)\n",
    "tn, fp, fn, tp = confusion_matrix(y_test, y_pred).ravel()\n",
    "\n",
    "print(f\"Accuracy: {acc:.4f}\")\n",
    "print(f\"Recall: {rec:.4f}\")\n",
    "print(f\"Precision: {prec:.4f}\")\n",
    "print(f\"F1 Score: {f1:.4f}\")\n",
    "print(f\"Confusion Matrix: TN={tn}, FP={fp}, FN={fn}, TP={tp}\")"
   ]
  },
  {
   "cell_type": "markdown",
   "id": "a5b39059",
   "metadata": {},
   "source": [
    "Variation 2: RF, GB, SVM"
   ]
  },
  {
   "cell_type": "code",
   "execution_count": 7,
   "id": "2cf7a9c8",
   "metadata": {},
   "outputs": [
    {
     "name": "stdout",
     "output_type": "stream",
     "text": [
      "Accuracy: 0.9104\n",
      "Recall: 0.6106\n",
      "Precision: 0.6007\n",
      "F1 Score: 0.6056\n",
      "Confusion Matrix: TN=10400, FP=565, FN=542, TP=850\n"
     ]
    }
   ],
   "source": [
    "from preprocessing import *\n",
    "from sklearn.linear_model import LogisticRegression\n",
    "from sklearn.ensemble import GradientBoostingClassifier, RandomForestClassifier\n",
    "from sklearn.svm import SVC\n",
    "from sklearn.metrics import accuracy_score, recall_score, precision_score, f1_score, confusion_matrix\n",
    "\n",
    "X_resampled, X_test, y_resampled, y_test, encoders, scalers = preprocessing_pipeline(df)\n",
    "\n",
    "#Base model init\n",
    "base = [\n",
    "    ('rf', RandomForestClassifier(random_state=42)),\n",
    "    ('gb', GradientBoostingClassifier(random_state=42)),\n",
    "    ('svm', SVC(random_state=42))\n",
    "]\n",
    "\n",
    "#Stacking classifier\n",
    "stack = StackingClassifier(\n",
    "    estimators=base,\n",
    "    final_estimator=LogisticRegression(max_iter=100, random_state=42),\n",
    "    cv=cv_5fold(),\n",
    "    n_jobs=-1,\n",
    ")\n",
    "\n",
    "stack.fit(X_resampled, y_resampled)\n",
    "\n",
    "y_pred = stack.predict(X_test)\n",
    "\n",
    "acc = accuracy_score(y_test, y_pred)\n",
    "rec = recall_score(y_test, y_pred)\n",
    "prec = precision_score(y_test, y_pred)\n",
    "f1 = f1_score(y_test, y_pred)\n",
    "tn, fp, fn, tp = confusion_matrix(y_test, y_pred).ravel()\n",
    "\n",
    "print(f\"Accuracy: {acc:.4f}\")\n",
    "print(f\"Recall: {rec:.4f}\")\n",
    "print(f\"Precision: {prec:.4f}\")\n",
    "print(f\"F1 Score: {f1:.4f}\")\n",
    "print(f\"Confusion Matrix: TN={tn}, FP={fp}, FN={fn}, TP={tp}\")"
   ]
  },
  {
   "cell_type": "code",
   "execution_count": 8,
   "id": "1002c6a8",
   "metadata": {},
   "outputs": [
    {
     "name": "stdout",
     "output_type": "stream",
     "text": [
      "Accuracy: 0.9104\n",
      "Recall: 0.6106\n",
      "Precision: 0.6007\n",
      "F1 Score: 0.6056\n",
      "Confusion Matrix: TN=10400, FP=565, FN=542, TP=850\n"
     ]
    }
   ],
   "source": [
    "from preprocessing import *\n",
    "from sklearn.linear_model import LogisticRegression\n",
    "from sklearn.ensemble import GradientBoostingClassifier, RandomForestClassifier\n",
    "from sklearn.svm import SVC\n",
    "from sklearn.metrics import accuracy_score, recall_score, precision_score, f1_score, confusion_matrix\n",
    "\n",
    "X_resampled, X_test, y_resampled, y_test, encoders, scalers = preprocessing_pipeline(df)\n",
    "\n",
    "#Base model init\n",
    "base = [\n",
    "    ('rf', RandomForestClassifier(random_state=42)),\n",
    "    ('gb', GradientBoostingClassifier(random_state=42)),\n",
    "    ('svm', SVC(random_state=42))\n",
    "]\n",
    "\n",
    "#Stacking classifier\n",
    "stack = StackingClassifier(\n",
    "    estimators=base,\n",
    "    final_estimator=LogisticRegression(max_iter=100, random_state=42),\n",
    "    cv=cv_10fold(),\n",
    "    n_jobs=-1,\n",
    ")\n",
    "\n",
    "stack.fit(X_resampled, y_resampled)\n",
    "\n",
    "y_pred = stack.predict(X_test)\n",
    "\n",
    "acc = accuracy_score(y_test, y_pred)\n",
    "rec = recall_score(y_test, y_pred)\n",
    "prec = precision_score(y_test, y_pred)\n",
    "f1 = f1_score(y_test, y_pred)\n",
    "tn, fp, fn, tp = confusion_matrix(y_test, y_pred).ravel()\n",
    "\n",
    "print(f\"Accuracy: {acc:.4f}\")\n",
    "print(f\"Recall: {rec:.4f}\")\n",
    "print(f\"Precision: {prec:.4f}\")\n",
    "print(f\"F1 Score: {f1:.4f}\")\n",
    "print(f\"Confusion Matrix: TN={tn}, FP={fp}, FN={fn}, TP={tp}\")"
   ]
  },
  {
   "cell_type": "markdown",
   "id": "1d5f1b42",
   "metadata": {},
   "source": [
    "Variant 3: AdaBoost, SVM, DT"
   ]
  },
  {
   "cell_type": "code",
   "execution_count": 9,
   "id": "397884da",
   "metadata": {},
   "outputs": [
    {
     "name": "stdout",
     "output_type": "stream",
     "text": [
      "Accuracy: 0.8916\n",
      "Recall: 0.7241\n",
      "Precision: 0.5135\n",
      "F1 Score: 0.6009\n",
      "Confusion Matrix: TN=10010, FP=955, FN=384, TP=1008\n"
     ]
    }
   ],
   "source": [
    "from preprocessing import *\n",
    "from sklearn.tree import DecisionTreeClassifier\n",
    "from sklearn.ensemble import AdaBoostClassifier\n",
    "from sklearn.svm import SVC\n",
    "from sklearn.metrics import accuracy_score, recall_score, precision_score, f1_score, confusion_matrix\n",
    "\n",
    "X_resampled, X_test, y_resampled, y_test, encoders, scalers = preprocessing_pipeline(df)\n",
    "\n",
    "#Base model init\n",
    "base = [\n",
    "    ('ada', AdaBoostClassifier(random_state=42)),\n",
    "    ('dt', DecisionTreeClassifier(random_state=42)),\n",
    "    ('svm', SVC(random_state=42))\n",
    "]\n",
    "\n",
    "#Stacking classifier\n",
    "stack = StackingClassifier(\n",
    "    estimators=base,\n",
    "    final_estimator=LogisticRegression(max_iter=100, random_state=42),\n",
    "    cv=cv_5fold(),\n",
    "    n_jobs=-1,\n",
    ")\n",
    "\n",
    "stack.fit(X_resampled, y_resampled)\n",
    "\n",
    "y_pred = stack.predict(X_test)\n",
    "\n",
    "acc = accuracy_score(y_test, y_pred)\n",
    "rec = recall_score(y_test, y_pred)\n",
    "prec = precision_score(y_test, y_pred)\n",
    "f1 = f1_score(y_test, y_pred)\n",
    "tn, fp, fn, tp = confusion_matrix(y_test, y_pred).ravel()\n",
    "\n",
    "print(f\"Accuracy: {acc:.4f}\")\n",
    "print(f\"Recall: {rec:.4f}\")\n",
    "print(f\"Precision: {prec:.4f}\")\n",
    "print(f\"F1 Score: {f1:.4f}\")\n",
    "print(f\"Confusion Matrix: TN={tn}, FP={fp}, FN={fn}, TP={tp}\")"
   ]
  },
  {
   "cell_type": "code",
   "execution_count": 10,
   "id": "3e346b5e",
   "metadata": {},
   "outputs": [
    {
     "name": "stdout",
     "output_type": "stream",
     "text": [
      "Accuracy: 0.8912\n",
      "Recall: 0.7241\n",
      "Precision: 0.5122\n",
      "F1 Score: 0.6000\n",
      "Confusion Matrix: TN=10005, FP=960, FN=384, TP=1008\n"
     ]
    }
   ],
   "source": [
    "from preprocessing import *\n",
    "from sklearn.tree import DecisionTreeClassifier\n",
    "from sklearn.ensemble import AdaBoostClassifier\n",
    "from sklearn.svm import SVC\n",
    "from sklearn.metrics import accuracy_score, recall_score, precision_score, f1_score, confusion_matrix\n",
    "\n",
    "X_resampled, X_test, y_resampled, y_test, encoders, scalers = preprocessing_pipeline(df)\n",
    "\n",
    "#Base model init\n",
    "base = [\n",
    "    ('ada', AdaBoostClassifier(random_state=42)),\n",
    "    ('dt', DecisionTreeClassifier(random_state=42)),\n",
    "    ('svm', SVC(random_state=42))\n",
    "]\n",
    "\n",
    "#Stacking classifier\n",
    "stack = StackingClassifier(\n",
    "    estimators=base,\n",
    "    final_estimator=LogisticRegression(max_iter=100, random_state=42),\n",
    "    cv=cv_10fold(),\n",
    "    n_jobs=-1,\n",
    ")\n",
    "\n",
    "stack.fit(X_resampled, y_resampled)\n",
    "\n",
    "y_pred = stack.predict(X_test)\n",
    "\n",
    "acc = accuracy_score(y_test, y_pred)\n",
    "rec = recall_score(y_test, y_pred)\n",
    "prec = precision_score(y_test, y_pred)\n",
    "f1 = f1_score(y_test, y_pred)\n",
    "tn, fp, fn, tp = confusion_matrix(y_test, y_pred).ravel()\n",
    "\n",
    "print(f\"Accuracy: {acc:.4f}\")\n",
    "print(f\"Recall: {rec:.4f}\")\n",
    "print(f\"Precision: {prec:.4f}\")\n",
    "print(f\"F1 Score: {f1:.4f}\")\n",
    "print(f\"Confusion Matrix: TN={tn}, FP={fp}, FN={fn}, TP={tp}\")"
   ]
  },
  {
   "cell_type": "markdown",
   "id": "0faa961c",
   "metadata": {},
   "source": [
    "Optimize Best Variant using GridSearchCV for each learner"
   ]
  },
  {
   "cell_type": "code",
   "execution_count": 13,
   "id": "627490e0",
   "metadata": {},
   "outputs": [
    {
     "name": "stdout",
     "output_type": "stream",
     "text": [
      "Fitting 5 folds for each of 15 candidates, totalling 75 fits\n",
      "Best parameters found:  {'max_features': 'sqrt', 'n_estimators': 500}\n"
     ]
    }
   ],
   "source": [
    "#Random Forest Optimization\n",
    "from preprocessing import *\n",
    "from sklearn.ensemble import RandomForestClassifier\n",
    "from sklearn.model_selection import GridSearchCV\n",
    "\n",
    "X_resampled, X_test, y_resampled, y_test, encoders, scalers = preprocessing_pipeline(df)\n",
    "\n",
    "param_grid = {\n",
    "    'n_estimators': [ 50, 100, 200, 300, 500],\n",
    "    'max_features': [None, 'sqrt', 'log2'],\n",
    "}\n",
    "\n",
    "rf = RandomForestClassifier(random_state=42)\n",
    "grid_search = GridSearchCV(estimator=rf, param_grid=param_grid, scoring='f1', cv=cv_5fold(), n_jobs=-1, verbose=1)\n",
    "\n",
    "grid_search.fit(X_resampled, y_resampled)\n",
    "best_rf = grid_search.best_estimator_\n",
    "print(\"Best parameters found: \", grid_search.best_params_)"
   ]
  },
  {
   "cell_type": "code",
   "execution_count": 14,
   "id": "cb63dbd6",
   "metadata": {},
   "outputs": [
    {
     "name": "stdout",
     "output_type": "stream",
     "text": [
      "Fitting 5 folds for each of 120 candidates, totalling 600 fits\n",
      "Best parameters found:  {'learning_rate': 0.1, 'max_depth': 9, 'n_estimators': 1000}\n"
     ]
    }
   ],
   "source": [
    "#Gradient Boosting Optimization\n",
    "from preprocessing import *\n",
    "from sklearn.ensemble import GradientBoostingClassifier\n",
    "from sklearn.model_selection import GridSearchCV\n",
    "\n",
    "X_resampled, X_test, y_resampled, y_test, encoders, scalers = preprocessing_pipeline(df)\n",
    "\n",
    "param_grid = {\n",
    "    'n_estimators': [50, 100, 200, 300, 500, 1000],\n",
    "    'learning_rate': [0.01, 0.1, 0.3, 0.5, 1.0],\n",
    "    'max_depth': [3, 5, 7, 9]\n",
    "}\n",
    "\n",
    "gb = GradientBoostingClassifier(random_state=42)\n",
    "grid_search = GridSearchCV(estimator=gb, param_grid=param_grid, cv=cv_5fold(), scoring='f1', n_jobs=-1, verbose=1)\n",
    "\n",
    "grid_search.fit(X_resampled, y_resampled)\n",
    "best_gb = grid_search.best_estimator_\n",
    "print(\"Best parameters found: \", grid_search.best_params_)"
   ]
  },
  {
   "cell_type": "code",
   "execution_count": 4,
   "id": "39e57fc2",
   "metadata": {},
   "outputs": [
    {
     "name": "stdout",
     "output_type": "stream",
     "text": [
      "Fitting 5 folds for each of 32 candidates, totalling 160 fits\n",
      "Best parameters found:  {'C': 100, 'gamma': 0.1, 'kernel': 'rbf'}\n"
     ]
    }
   ],
   "source": [
    "#SVM Optimization\n",
    "from preprocessing import *\n",
    "from sklearn.svm import SVC\n",
    "from sklearn.model_selection import GridSearchCV\n",
    "\n",
    "X_resampled, X_test, y_resampled, y_test, encoders, scalers = preprocessing_pipeline(df)\n",
    "\n",
    "param_grid = {\n",
    "    'C': [0.1, 1, 10, 100],\n",
    "    'gamma': [1, 0.1, 0.01, 0.001],\n",
    "    'kernel': ['rbf', 'linear']\n",
    "}\n",
    "\n",
    "svm = SVC(random_state=42)\n",
    "grid_search = GridSearchCV(estimator=svm, param_grid=param_grid, cv=cv_5fold(), scoring='f1', n_jobs=-1, verbose=2)\n",
    "\n",
    "grid_search.fit(X_resampled, y_resampled)\n",
    "best_svm = grid_search.best_estimator_\n",
    "print(\"Best parameters found: \", grid_search.best_params_)"
   ]
  },
  {
   "cell_type": "code",
   "execution_count": 7,
   "id": "dd08da84",
   "metadata": {},
   "outputs": [
    {
     "name": "stdout",
     "output_type": "stream",
     "text": [
      "Accuracy: 0.9103\n",
      "Recall: 0.5761\n",
      "Precision: 0.6071\n",
      "F1 Score: 0.5912\n",
      "Confusion Matrix: TN=10446, FP=519, FN=590, TP=802\n"
     ]
    },
    {
     "data": {
      "image/png": "[encoded data removed]",
      "text/plain": [
       "<Figure size 800x600 with 1 Axes>"
      ]
     },
     "metadata": {},
     "output_type": "display_data"
    }
   ],
   "source": [
    "#Stacked optimized learner\n",
    "from preprocessing import *\n",
    "from sklearn.linear_model import LogisticRegression\n",
    "from sklearn.ensemble import GradientBoostingClassifier, RandomForestClassifier, StackingClassifier\n",
    "from sklearn.svm import SVC\n",
    "from sklearn.metrics import accuracy_score, recall_score, precision_score, f1_score, confusion_matrix, roc_curve, auc\n",
    "import matplotlib.pyplot as plt\n",
    "\n",
    "\n",
    "X_resampled, X_test, y_resampled, y_test, encoders, scalers = preprocessing_pipeline(df)\n",
    "\n",
    "#Base model init\n",
    "base = [\n",
    "    ('rf', RandomForestClassifier(max_features='sqrt', n_estimators=500, random_state=42)),\n",
    "    ('gb', GradientBoostingClassifier(learning_rate=0.1, max_depth=9, n_estimators=1000, random_state=42)),\n",
    "    ('svm', SVC(C=100, gamma=0.1, kernel='rbf', random_state=42))\n",
    "]\n",
    "\n",
    "#Stacking classifier\n",
    "stack = StackingClassifier(\n",
    "    estimators=base,\n",
    "    final_estimator=LogisticRegression(max_iter=100, random_state=42),\n",
    "    cv=cv_5fold(),\n",
    "    n_jobs=-1,\n",
    ")\n",
    "\n",
    "stack.fit(X_resampled, y_resampled)\n",
    "\n",
    "y_pred = stack.predict(X_test)\n",
    "y_pred_proba = stack.predict_proba(X_test)[:, 1]\n",
    "\n",
    "fpr, tpr, thresholds = roc_curve(y_test, y_pred_proba)\n",
    "roc_auc = auc(fpr, tpr)\n",
    "\n",
    "acc = accuracy_score(y_test, y_pred)\n",
    "rec = recall_score(y_test, y_pred)\n",
    "prec = precision_score(y_test, y_pred)\n",
    "f1 = f1_score(y_test, y_pred)\n",
    "tn, fp, fn, tp = confusion_matrix(y_test, y_pred).ravel()\n",
    "\n",
    "print(f\"Accuracy: {acc:.4f}\")\n",
    "print(f\"Recall: {rec:.4f}\")\n",
    "print(f\"Precision: {prec:.4f}\")\n",
    "print(f\"F1 Score: {f1:.4f}\")\n",
    "print(f\"Confusion Matrix: TN={tn}, FP={fp}, FN={fn}, TP={tp}\")\n",
    "\n",
    "plt.figure(figsize=(8,6))\n",
    "plt.plot(fpr, tpr, color='blue', lw=2, label=f'ROC curve (AUC = {roc_auc:.4f})')\n",
    "plt.plot([0, 1], [0, 1], color='grey', lw=1, linestyle='--')\n",
    "plt.xlabel('False Positive Rate')\n",
    "plt.ylabel('True Positive Rate')\n",
    "plt.title('ROC Curve - Stacking Classifier')\n",
    "plt.legend(loc=\"lower right\")\n",
    "plt.show()"
   ]
  }
 ],
 "metadata": {
  "kernelspec": {
   "display_name": "venv",
   "language": "python",
   "name": "python3"
  },
  "language_info": {
   "codemirror_mode": {
    "name": "ipython",
    "version": 3
   },
   "file_extension": ".py",
   "mimetype": "text/x-python",
   "name": "python",
   "nbconvert_exporter": "python",
   "pygments_lexer": "ipython3",
   "version": "3.13.7"
  }
 },
 "nbformat": 4,
 "nbformat_minor": 5
}
