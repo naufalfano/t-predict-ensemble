{
 "cells": [
  {
   "cell_type": "markdown",
   "id": "2283b698",
   "metadata": {},
   "source": [
    "## Codebase for bank marketing dataset classification using superlearner techniques"
   ]
  },
  {
   "cell_type": "code",
   "execution_count": 6,
   "id": "7c902a07",
   "metadata": {},
   "outputs": [],
   "source": [
    "import pandas as pd\n",
    "import numpy as np\n",
    "import matplotlib.pyplot as plt\n",
    "import seaborn as sns"
   ]
  },
  {
   "cell_type": "code",
   "execution_count": 7,
   "id": "8e7928a3",
   "metadata": {},
   "outputs": [
    {
     "name": "stdout",
     "output_type": "stream",
     "text": [
      "   age        job  marital    education  default housing loan    contact  \\\n",
      "0   56  housemaid  married     basic.4y       no      no   no  telephone   \n",
      "1   57   services  married  high.school  unknown      no   no  telephone   \n",
      "2   37   services  married  high.school       no     yes   no  telephone   \n",
      "3   40     admin.  married     basic.6y       no      no   no  telephone   \n",
      "4   56   services  married  high.school       no      no  yes  telephone   \n",
      "\n",
      "  month day_of_week  ...  campaign  pdays  previous     poutcome emp.var.rate  \\\n",
      "0   may         mon  ...         1    999         0  nonexistent          1.1   \n",
      "1   may         mon  ...         1    999         0  nonexistent          1.1   \n",
      "2   may         mon  ...         1    999         0  nonexistent          1.1   \n",
      "3   may         mon  ...         1    999         0  nonexistent          1.1   \n",
      "4   may         mon  ...         1    999         0  nonexistent          1.1   \n",
      "\n",
      "   cons.price.idx  cons.conf.idx  euribor3m  nr.employed   y  \n",
      "0          93.994          -36.4      4.857       5191.0  no  \n",
      "1          93.994          -36.4      4.857       5191.0  no  \n",
      "2          93.994          -36.4      4.857       5191.0  no  \n",
      "3          93.994          -36.4      4.857       5191.0  no  \n",
      "4          93.994          -36.4      4.857       5191.0  no  \n",
      "\n",
      "[5 rows x 21 columns]\n"
     ]
    }
   ],
   "source": [
    "from dataset import get_data\n",
    "\n",
    "df = get_data()\n",
    "print(df.head())"
   ]
  },
  {
   "cell_type": "markdown",
   "id": "a375463f",
   "metadata": {},
   "source": [
    "Variant 1:\n",
    "Base = DT, LR, SVM, RF, XGBoost\n",
    "Meta Learner = LR"
   ]
  },
  {
   "cell_type": "code",
   "execution_count": 3,
   "id": "04147452",
   "metadata": {},
   "outputs": [
    {
     "name": "stdout",
     "output_type": "stream",
     "text": [
      "Accuracy: 0.9100\n",
      "Recall: 0.6315\n",
      "Precision: 0.5947\n",
      "F1 Score: 0.6125\n",
      "Confusion Matrix: TN=879, FP=513, FN=599, TP=10366\n"
     ]
    }
   ],
   "source": [
    "from sklearn.linear_model import LogisticRegression\n",
    "from sklearn.tree import DecisionTreeClassifier\n",
    "from sklearn.ensemble import RandomForestClassifier\n",
    "from sklearn.svm import SVC\n",
    "from xgboost import XGBClassifier\n",
    "from superlearner import SuperLearner\n",
    "from sklearn.metrics import accuracy_score, recall_score, precision_score, f1_score, confusion_matrix\n",
    "from preprocessing import *\n",
    "\n",
    "X_resampled, X_test, y_resampled, y_test, encoders, scalers = preprocessing_pipeline(df)\n",
    "\n",
    "base = [\n",
    "    LogisticRegression(max_iter=1000, solver='lbfgs', random_state=42),\n",
    "    RandomForestClassifier(random_state=42, n_jobs=-1),\n",
    "    DecisionTreeClassifier(random_state=42),\n",
    "    XGBClassifier(random_state=42, n_jobs=-1),\n",
    "    SVC(probability=True, random_state=42)\n",
    "]\n",
    "\n",
    "meta_learner = LogisticRegression(max_iter=1000, solver='lbfgs', random_state=42)\n",
    "\n",
    "sl = SuperLearner(\n",
    "    base_learners=base, meta_learner=meta_learner, n_folds=5\n",
    ")\n",
    "\n",
    "sl.fit(X_resampled, y_resampled)\n",
    "\n",
    "y_pred = sl.predict(X_test)\n",
    "\n",
    "acc = accuracy_score(y_test, y_pred)\n",
    "rec = recall_score(y_test, y_pred)\n",
    "prec = precision_score(y_test, y_pred)\n",
    "f1 = f1_score(y_test, y_pred)\n",
    "tp, fn, fp, tn = confusion_matrix(y_test, y_pred).ravel()\n",
    "\n",
    "print(f\"Accuracy: {acc:.4f}\")\n",
    "print(f\"Recall: {rec:.4f}\")\n",
    "print(f\"Precision: {prec:.4f}\")\n",
    "print(f\"F1 Score: {f1:.4f}\")\n",
    "print(f\"Confusion Matrix: TN={tn}, FP={fp}, FN={fn}, TP={tp}\")"
   ]
  },
  {
   "cell_type": "code",
   "execution_count": 6,
   "id": "3b5b88d3",
   "metadata": {},
   "outputs": [
    {
     "name": "stdout",
     "output_type": "stream",
     "text": [
      "Accuracy: 0.9109\n",
      "Recall: 0.6200\n",
      "Precision: 0.6014\n",
      "F1 Score: 0.6105\n",
      "Confusion Matrix: TN=863, FP=529, FN=572, TP=10393\n"
     ]
    }
   ],
   "source": [
    "from sklearn.linear_model import LogisticRegression\n",
    "from sklearn.tree import DecisionTreeClassifier\n",
    "from sklearn.ensemble import RandomForestClassifier\n",
    "from sklearn.svm import SVC\n",
    "from xgboost import XGBClassifier\n",
    "from superlearner import SuperLearner\n",
    "from sklearn.metrics import accuracy_score, recall_score, precision_score, f1_score, confusion_matrix\n",
    "from preprocessing import *\n",
    "\n",
    "X_resampled, X_test, y_resampled, y_test, encoders, scalers = preprocessing_pipeline(df)\n",
    "\n",
    "base = [\n",
    "    LogisticRegression(max_iter=1000, solver='lbfgs', random_state=42, n_jobs=-1),\n",
    "    RandomForestClassifier(random_state=42, n_jobs=-1),\n",
    "    DecisionTreeClassifier(random_state=42),\n",
    "    XGBClassifier(random_state=42, n_jobs=-1),\n",
    "    SVC(probability=True, random_state=42)\n",
    "]\n",
    "\n",
    "meta_learner = LogisticRegression(max_iter=1000, solver='lbfgs', random_state=42)\n",
    "\n",
    "sl = SuperLearner(\n",
    "    base_learners=base, meta_learner=meta_learner, n_folds=10\n",
    ")\n",
    "\n",
    "sl.fit(X_resampled, y_resampled)\n",
    "\n",
    "y_pred = sl.predict(X_test)\n",
    "\n",
    "acc = accuracy_score(y_test, y_pred)\n",
    "rec = recall_score(y_test, y_pred)\n",
    "prec = precision_score(y_test, y_pred)\n",
    "f1 = f1_score(y_test, y_pred)\n",
    "tp, fn, fp, tn = confusion_matrix(y_test, y_pred).ravel()\n",
    "\n",
    "print(f\"Accuracy: {acc:.4f}\")\n",
    "print(f\"Recall: {rec:.4f}\")\n",
    "print(f\"Precision: {prec:.4f}\")\n",
    "print(f\"F1 Score: {f1:.4f}\")\n",
    "print(f\"Confusion Matrix: TN={tn}, FP={fp}, FN={fn}, TP={tp}\")"
   ]
  },
  {
   "cell_type": "markdown",
   "id": "6e09f089",
   "metadata": {},
   "source": [
    "Variant 2"
   ]
  },
  {
   "cell_type": "code",
   "execution_count": 7,
   "id": "0790dfbf",
   "metadata": {},
   "outputs": [
    {
     "name": "stdout",
     "output_type": "stream",
     "text": [
      "Accuracy: 0.8950\n",
      "Recall: 0.4921\n",
      "Precision: 0.5373\n",
      "F1 Score: 0.5137\n",
      "Confusion Matrix: TN=685, FP=707, FN=590, TP=10375\n"
     ]
    }
   ],
   "source": [
    "from sklearn.linear_model import LogisticRegression\n",
    "from sklearn.tree import DecisionTreeClassifier\n",
    "from sklearn.ensemble import RandomForestClassifier\n",
    "from sklearn.svm import SVC\n",
    "from xgboost import XGBClassifier\n",
    "from superlearner import SuperLearner\n",
    "from sklearn.metrics import accuracy_score, recall_score, precision_score, f1_score, confusion_matrix\n",
    "from preprocessing import *\n",
    "\n",
    "X_resampled, X_test, y_resampled, y_test, encoders, scalers = preprocessing_pipeline(df)\n",
    "\n",
    "base = [\n",
    "    LogisticRegression(max_iter=1000, solver='lbfgs', random_state=42),\n",
    "    RandomForestClassifier(random_state=42, n_jobs=-1),\n",
    "    DecisionTreeClassifier(random_state=42),\n",
    "    XGBClassifier(random_state=42, n_jobs=-1),\n",
    "    SVC(probability=True, random_state=42)\n",
    "]\n",
    "\n",
    "meta_learner = DecisionTreeClassifier(random_state=42)\n",
    "\n",
    "sl = SuperLearner(\n",
    "    base_learners=base, meta_learner=meta_learner, n_folds=5\n",
    ")\n",
    "\n",
    "sl.fit(X_resampled, y_resampled)\n",
    "\n",
    "y_pred = sl.predict(X_test)\n",
    "\n",
    "acc = accuracy_score(y_test, y_pred)\n",
    "rec = recall_score(y_test, y_pred)\n",
    "prec = precision_score(y_test, y_pred)\n",
    "f1 = f1_score(y_test, y_pred)\n",
    "tp, fn, fp, tn = confusion_matrix(y_test, y_pred).ravel()\n",
    "\n",
    "print(f\"Accuracy: {acc:.4f}\")\n",
    "print(f\"Recall: {rec:.4f}\")\n",
    "print(f\"Precision: {prec:.4f}\")\n",
    "print(f\"F1 Score: {f1:.4f}\")\n",
    "print(f\"Confusion Matrix: TN={tn}, FP={fp}, FN={fn}, TP={tp}\")"
   ]
  },
  {
   "cell_type": "code",
   "execution_count": 9,
   "id": "45a18a29",
   "metadata": {},
   "outputs": [
    {
     "name": "stdout",
     "output_type": "stream",
     "text": [
      "Accuracy: 0.9097\n",
      "Recall: 0.6257\n",
      "Precision: 0.5941\n",
      "F1 Score: 0.6095\n",
      "Confusion Matrix: TN=871, FP=521, FN=595, TP=10370\n"
     ]
    }
   ],
   "source": [
    "from sklearn.linear_model import LogisticRegression\n",
    "from sklearn.tree import DecisionTreeClassifier\n",
    "from sklearn.ensemble import RandomForestClassifier\n",
    "from sklearn.svm import SVC\n",
    "from sklearn.neural_network import MLPClassifier\n",
    "from xgboost import XGBClassifier\n",
    "from superlearner import SuperLearner\n",
    "from sklearn.metrics import accuracy_score, recall_score, precision_score, f1_score, confusion_matrix\n",
    "from preprocessing import *\n",
    "\n",
    "X_resampled, X_test, y_resampled, y_test, encoders, scalers = preprocessing_pipeline(df)\n",
    "\n",
    "base = [\n",
    "    RandomForestClassifier(random_state=42, n_jobs=-1),\n",
    "    DecisionTreeClassifier(random_state=42),\n",
    "    XGBClassifier(random_state=42, n_jobs=-1),\n",
    "    SVC(probability=True, random_state=42),\n",
    "    MLPClassifier(max_iter=1000, random_state=42)\n",
    "]\n",
    "\n",
    "meta_learner = LogisticRegression(max_iter=1000, solver='lbfgs', random_state=42)\n",
    "\n",
    "sl = SuperLearner(\n",
    "    base_learners=base, meta_learner=meta_learner, n_folds=5\n",
    ")\n",
    "\n",
    "sl.fit(X_resampled, y_resampled)\n",
    "\n",
    "y_pred = sl.predict(X_test)\n",
    "\n",
    "acc = accuracy_score(y_test, y_pred)\n",
    "rec = recall_score(y_test, y_pred)\n",
    "prec = precision_score(y_test, y_pred)\n",
    "f1 = f1_score(y_test, y_pred)\n",
    "tp, fn, fp, tn = confusion_matrix(y_test, y_pred).ravel()\n",
    "\n",
    "print(f\"Accuracy: {acc:.4f}\")\n",
    "print(f\"Recall: {rec:.4f}\")\n",
    "print(f\"Precision: {prec:.4f}\")\n",
    "print(f\"F1 Score: {f1:.4f}\")\n",
    "print(f\"Confusion Matrix: TN={tn}, FP={fp}, FN={fn}, TP={tp}\")"
   ]
  },
  {
   "cell_type": "code",
   "execution_count": 4,
   "id": "1954ff02",
   "metadata": {},
   "outputs": [
    {
     "name": "stdout",
     "output_type": "stream",
     "text": [
      "Accuracy: 0.9110\n",
      "Recall: 0.6049\n",
      "Precision: 0.6049\n",
      "F1 Score: 0.6049\n",
      "Confusion Matrix: TN=842, FP=550, FN=550, TP=10415\n"
     ]
    }
   ],
   "source": [
    "#Optimized hyperparameter on base model\n",
    "from sklearn.linear_model import LogisticRegression\n",
    "from sklearn.tree import DecisionTreeClassifier\n",
    "from sklearn.ensemble import RandomForestClassifier\n",
    "from sklearn.svm import SVC\n",
    "from sklearn.neural_network import MLPClassifier\n",
    "from xgboost import XGBClassifier\n",
    "from superlearner import SuperLearner\n",
    "from sklearn.metrics import accuracy_score, recall_score, precision_score, f1_score, confusion_matrix\n",
    "from preprocessing import *\n",
    "\n",
    "X_resampled, X_test, y_resampled, y_test, encoders, scalers = preprocessing_pipeline(df)\n",
    "\n",
    "base = [\n",
    "    LogisticRegression(max_iter=1000, solver='lbfgs', random_state=42, n_jobs=-1),\n",
    "    RandomForestClassifier(n_estimators=500, max_features='sqrt', random_state=42, n_jobs=-1),\n",
    "    DecisionTreeClassifier(max_depth=10, random_state=42),\n",
    "    XGBClassifier(learning_rate= 0.1, n_estimators= 500, subsample= 0.5, random_state=42, n_jobs=-1),\n",
    "    MLPClassifier(max_iter=1000, random_state=42)\n",
    "]\n",
    "\n",
    "meta_learner = LogisticRegression(max_iter=1000, solver='lbfgs', random_state=42)\n",
    "\n",
    "sl = SuperLearner(\n",
    "    base_learners=base, meta_learner=meta_learner, n_folds=10\n",
    ")\n",
    "\n",
    "sl.fit(X_resampled, y_resampled)\n",
    "\n",
    "y_pred = sl.predict(X_test)\n",
    "\n",
    "acc = accuracy_score(y_test, y_pred)\n",
    "rec = recall_score(y_test, y_pred)\n",
    "prec = precision_score(y_test, y_pred)\n",
    "f1 = f1_score(y_test, y_pred)\n",
    "tp, fn, fp, tn = confusion_matrix(y_test, y_pred).ravel()\n",
    "\n",
    "print(f\"Accuracy: {acc:.4f}\")\n",
    "print(f\"Recall: {rec:.4f}\")\n",
    "print(f\"Precision: {prec:.4f}\")\n",
    "print(f\"F1 Score: {f1:.4f}\")\n",
    "print(f\"Confusion Matrix: TN={tn}, FP={fp}, FN={fn}, TP={tp}\")"
   ]
  },
  {
   "cell_type": "code",
   "execution_count": 5,
   "id": "249b1919",
   "metadata": {},
   "outputs": [
    {
     "name": "stdout",
     "output_type": "stream",
     "text": [
      "Accuracy: 0.9098\n",
      "Recall: 0.6128\n",
      "Precision: 0.5973\n",
      "F1 Score: 0.6050\n",
      "Confusion Matrix: TN=853, FP=539, FN=575, TP=10390\n"
     ]
    }
   ],
   "source": [
    "#Optimized hyperparameter on base model\n",
    "from sklearn.linear_model import LogisticRegression\n",
    "from sklearn.tree import DecisionTreeClassifier\n",
    "from sklearn.ensemble import RandomForestClassifier\n",
    "from sklearn.svm import SVC\n",
    "from sklearn.neural_network import MLPClassifier\n",
    "from xgboost import XGBClassifier\n",
    "from superlearner import SuperLearner\n",
    "from sklearn.metrics import accuracy_score, recall_score, precision_score, f1_score, confusion_matrix\n",
    "from preprocessing import *\n",
    "\n",
    "X_resampled, X_test, y_resampled, y_test, encoders, scalers = preprocessing_pipeline(df)\n",
    "\n",
    "base = [\n",
    "    LogisticRegression(max_iter=1000, solver='lbfgs', random_state=42, n_jobs=-1),\n",
    "    RandomForestClassifier(n_estimators=500, max_features='sqrt', random_state=42, n_jobs=-1),\n",
    "    DecisionTreeClassifier(max_depth=10, random_state=42),\n",
    "    XGBClassifier(learning_rate= 0.1, n_estimators= 500, subsample= 0.5, random_state=42, n_jobs=-1),\n",
    "    MLPClassifier(max_iter=1000, random_state=42)\n",
    "]\n",
    "\n",
    "meta_learner = LogisticRegression(max_iter=1000, solver='lbfgs', random_state=42)\n",
    "\n",
    "sl = SuperLearner(\n",
    "    base_learners=base, meta_learner=meta_learner, n_folds=5\n",
    ")\n",
    "\n",
    "sl.fit(X_resampled, y_resampled)\n",
    "\n",
    "y_pred = sl.predict(X_test)\n",
    "\n",
    "acc = accuracy_score(y_test, y_pred)\n",
    "rec = recall_score(y_test, y_pred)\n",
    "prec = precision_score(y_test, y_pred)\n",
    "f1 = f1_score(y_test, y_pred)\n",
    "tp, fn, fp, tn = confusion_matrix(y_test, y_pred).ravel()\n",
    "\n",
    "print(f\"Accuracy: {acc:.4f}\")\n",
    "print(f\"Recall: {rec:.4f}\")\n",
    "print(f\"Precision: {prec:.4f}\")\n",
    "print(f\"F1 Score: {f1:.4f}\")\n",
    "print(f\"Confusion Matrix: TN={tn}, FP={fp}, FN={fn}, TP={tp}\")"
   ]
  },
  {
   "cell_type": "code",
   "execution_count": 9,
   "id": "7354e753",
   "metadata": {},
   "outputs": [
    {
     "data": {
      "image/png": "[encoded data removed]",
      "text/plain": [
       "<Figure size 700x500 with 1 Axes>"
      ]
     },
     "metadata": {},
     "output_type": "display_data"
    }
   ],
   "source": [
    "import matplotlib.pyplot as plt\n",
    "import numpy as np\n",
    "\n",
    "# Data for the two variants\n",
    "variants = ['Var 1', 'Var 2', 'Var 3', 'Var 4', 'Var 5']\n",
    "accuracy = [0.9100, 0.9109, 0.8950, 0.9097, 0.9110]\n",
    "f1_score = [0.6125, 0.6105, 0.5137, 0.6095, 0.6049]\n",
    "\n",
    "x = np.arange(len(variants))  # label locations\n",
    "width = 0.35  # width of the bars\n",
    "\n",
    "plt.figure(figsize=(7, 5))\n",
    "bars1 = plt.bar(x - width/2, accuracy, width, label='Accuracy', color='skyblue', edgecolor='black')\n",
    "bars2 = plt.bar(x + width/2, f1_score, width, label='F1 Score', color='salmon', edgecolor='black')\n",
    "\n",
    "plt.ylabel('Score')\n",
    "plt.ylim(0, 1)\n",
    "plt.title('SuperLearner Variants Performance')\n",
    "plt.xticks(x, variants)\n",
    "plt.legend()\n",
    "\n",
    "# Add value labels on top of each bar\n",
    "for bars in [bars1, bars2]:\n",
    "    for bar in bars:\n",
    "        height = bar.get_height()\n",
    "        plt.text(bar.get_x() + bar.get_width()/2, height + 0.01, f'{height:.4f}',\n",
    "                 ha='center', va='bottom', fontsize=10)\n",
    "\n",
    "plt.tight_layout()\n",
    "plt.show()"
   ]
  },
  {
   "cell_type": "code",
   "execution_count": 10,
   "id": "8d70b7c6",
   "metadata": {},
   "outputs": [
    {
     "data": {
      "image/png": "[encoded data removed]",
      "text/plain": [
       "<Figure size 700x500 with 1 Axes>"
      ]
     },
     "metadata": {},
     "output_type": "display_data"
    }
   ],
   "source": [
    "import matplotlib.pyplot as plt\n",
    "import numpy as np\n",
    "\n",
    "# Data for the two variants\n",
    "variants = ['Var 1', 'Var 2', 'Var 3', 'Var 4', 'Var 5']\n",
    "accuracy = [0.9100, 0.9109, 0.8950, 0.9097, 0.9110]\n",
    "f1_score = [0.6125, 0.6105, 0.5137, 0.6095, 0.6049]\n",
    "\n",
    "x = np.arange(len(variants))  # label locations\n",
    "width = 0.35  # width of the bars\n",
    "\n",
    "plt.figure(figsize=(7, 5))\n",
    "# Set colors: darker for Var 1, lighter for others\n",
    "acc_colors = ['#1565c0'] + ['skyblue'] * (len(variants)-1)\n",
    "f1_colors = ['#b71c1c'] + ['salmon'] * (len(variants)-1)\n",
    "\n",
    "bars1 = plt.bar(x - width/2, accuracy, width, label='Accuracy', color=acc_colors, edgecolor='black')\n",
    "bars2 = plt.bar(x + width/2, f1_score, width, label='F1 Score', color=f1_colors, edgecolor='black')\n",
    "\n",
    "plt.ylabel('Score')\n",
    "plt.ylim(0, 1)\n",
    "plt.title('SuperLearner Variants Performance')\n",
    "plt.xticks(x, variants)\n",
    "plt.legend()\n",
    "\n",
    "# Add value labels on top of each bar\n",
    "for bars in [bars1, bars2]:\n",
    "    for bar in bars:\n",
    "        height = bar.get_height()\n",
    "        plt.text(bar.get_x() + bar.get_width()/2, height + 0.01, f'{height:.4f}',\n",
    "                 ha='center', va='bottom', fontsize=10)\n",
    "\n",
    "plt.tight_layout()\n",
    "plt.show()"
   ]
  }
 ],
 "metadata": {
  "kernelspec": {
   "display_name": "venv",
   "language": "python",
   "name": "python3"
  },
  "language_info": {
   "codemirror_mode": {
    "name": "ipython",
    "version": 3
   },
   "file_extension": ".py",
   "mimetype": "text/x-python",
   "name": "python",
   "nbconvert_exporter": "python",
   "pygments_lexer": "ipython3",
   "version": "3.13.7"
  }
 },
 "nbformat": 4,
 "nbformat_minor": 5
}
